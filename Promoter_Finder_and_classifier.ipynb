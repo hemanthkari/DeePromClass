{
 "cells": [
  {
   "cell_type": "code",
   "execution_count": null,
   "metadata": {
    "id": "x0QcPYF5r3Mp"
   },
   "outputs": [],
   "source": [
    "##copy the genome data to the file        \"Input_data.txt\"\n",
    "##Run all the cells and wait for the output to be saved to the file \"Motif_list_with_indexes_and_classification.txt\"\n",
    "import tensorflow as tf                                        #imports tensorflow modules.\n",
    "import numpy as np                                             #imports numpy modules as np.\n",
    "import re                                                      #imports regular expression module(re).\n",
    "import matplotlib.pyplot as plt                                #imports matplotlib as plt."
   ]
  },
  {
   "cell_type": "code",
   "execution_count": null,
   "metadata": {
    "id": "wIQWmamer3ND"
   },
   "outputs": [],
   "source": [
    "### Main variables used in finding\n",
    "#class_conf represents the required minimum confidence for output promoters.\n",
    "#Length of output sequences is 151 as the models are trained using datasets of range 150 taken from newEPD database.\n",
    "stride = 2\n",
    "seq_len = 151\n",
    "class_conf = 0.95"
   ]
  },
  {
   "cell_type": "code",
   "execution_count": null,
   "metadata": {
    "id": "00ruBKc2r3NH"
   },
   "outputs": [],
   "source": [
    "#dictionary for known promoters which are required for classification.\n",
    "decs = {\n",
    "    \"imotif_element\":r'C[3-5](A|C|T|G)[1-7]C[3-5](A|C|T|G)[1-7]C[3-5](A|C|T|G)[1-7]C[3-5]',\n",
    "    \"g_quadruplex_element\":r'G[3-5](A|C|G|T)[1-7]G[3-5](A|C|G|T)[1-7]G[3-5](A|C|G|T)[1-7]G[3-5]',\n",
    "    \"z_motifs_element\":r'(C|T)(A|G)>6',\n",
    "    \"G_tract_element\":r'(CCCCCCC|GGGGGGG)',\n",
    "    \"A_tract_element\":r'(AAAAAAA|TTTTTTT)',\n",
    "    \"TATA_box_element\":r'TATA(A|T)A(A|T)(A|G)',\n",
    "    \"inrfly_element\":r'TCAGT(C|T)',\n",
    "    \"inrhuman_element\":r'(C|T)(A|G)',\n",
    "    \"bbcabw_element\":r'(C|G|T)(C|G|T)CA(C|G|T)(A|T)',\n",
    "    \"rgwcgtg_element\":r'(A|G)G(A|T)CGTG',\n",
    "    \"rgwyvt_element\":r'(A|G)G(A|T)(C|T)(A|C|G)T',\n",
    "    \"GCGWKCGGTTS_element\":r'GCG(A|T)(G|T)CGGTT(G|C)',\n",
    "    \"mte_element\":r'C(G|C)A(A|G)C(G|C)(G|C)AACG(G|C)',\n",
    "    \"OHLER1_element\":r'(C|T)GGTCACACT(A|G)',\n",
    "    \"OHLER6_element\":r'(G|T)T(C|T)(A|G)GTAT(A|T)TTT',\n",
    "    \"OHLER7_element\":r'(G|T)(A|C|G|T)(A|C|G|T)CA(G|T)C(A|C|G|T)CT(A|G)(A|C|G|T)(C|T)',\n",
    "    \"dre_element\":r'(A|T)ATCGAT(A|T)',\n",
    "    \"tct_element\":r'(C|T)(C|T)CTTT(C|T)(C|T)',\n",
    "    \"BREu_element\":r'(G|C)(G|C)(A|G)CGCC',\n",
    "    \"BREd_element\":r'(A|G)T(A|G|T)(G|T)(G|T)(G|T)(G|T)',\n",
    "    \"DCEI_element\":r'CTTC',\n",
    "    \"DCEII_element\":r'CTGT',\n",
    "    \"DCEIII_element\":r'AGC',\n",
    "    \"XCPE1_element\":r'(A|G|T)(G|C)G(C|T)GG(A|G)A(G|C)(A|C)',\n",
    "    \"XCPE2_element\":r'(A|C|G)C(C|T)C(A|G)TT(A|G)C(A|C)(C|T)',\n",
    "    \"pausebutton_element\":r'(G|T)CG(A|G)(A|T)CG',\n",
    "    \"sp1_element\":r'(GGCGGG|GGGCGG|CCGCCC|CCCGCC)',\n",
    "    \"atg_element\":r'ATG',\n",
    "}"
   ]
  },
  {
   "cell_type": "code",
   "execution_count": null,
   "metadata": {
    "id": "BC1Dva8qr3NJ"
   },
   "outputs": [],
   "source": [
    "#This is a method for choosing the organism of choice.\n",
    "def let_user_pick(options):                                    \n",
    "    print(\"Please choose:\")\n",
    "    for idx, element in enumerate(options):\n",
    "        print(\"{}) {}\".format(idx+1,element))\n",
    "    i = input(\"Enter number: \")\n",
    "    try:\n",
    "        if 0 < int(i) <= len(options):\n",
    "            return int(i)-1\n",
    "    except Exception as e:\n",
    "        print(e)\n",
    "        pass\n",
    "    return None\n"
   ]
  },
  {
   "cell_type": "code",
   "execution_count": null,
   "metadata": {
    "id": "m0QsmSFPr3NL"
   },
   "outputs": [],
   "source": [
    "#Importing the saved models of different oragnisms from their respective folders as each organism has a separate model.\n",
    "homo_sapiens_model = tf.keras.models.load_model(\"Models/Homo-Sapiens/model\")\n",
    "c_elegans_model = tf.keras.models.load_model(\"Models/C-elegans/model\")\n",
    "drosophila_melanogaster_model = tf.keras.models.load_model(\"Models/Drosophila-Melanogaster/model\")\n",
    "mus_musculas_model = tf.keras.models.load_model(\"Models/Mus-Musculus/model\")\n",
    "yeast_model = tf.keras.models.load_model(\"Models/Yeast/model\")"
   ]
  },
  {
   "cell_type": "code",
   "execution_count": null,
   "metadata": {
    "id": "zGpjQprNr3NM"
   },
   "outputs": [],
   "source": [
    "#species dictionary\n",
    "species = {\n",
    "    \"Homo-Sapiens\": homo_sapiens_model,\n",
    "    \"C-Elegans\": c_elegans_model,\n",
    "    \"Drosophila-Melanogaster\": drosophila_melanogaster_model,\n",
    "    \"Mus-Musculas\": mus_musculas_model,\n",
    "    \"Yeast\":yeast_model,\n",
    "}"
   ]
  },
  {
   "cell_type": "code",
   "execution_count": null,
   "metadata": {
    "id": "VbcsFYPMr3NN"
   },
   "outputs": [],
   "source": [
    "#Data input from file \"Input_data.txt\" and modifying it as required.\n",
    "inp = \"Input_data.txt\"\n",
    "try:\n",
    "    with open(inp, \"r\") as fl:\n",
    "        input_seq = \"\".join(fl.read().split(\"\\n\")[1:])\n",
    "except FileNotFoundError:\n",
    "    print(\"File Not found\")\n",
    "except Exception as e:\n",
    "    print(e)"
   ]
  },
  {
   "cell_type": "code",
   "execution_count": null,
   "metadata": {
    "id": "t25W1IPor3NO",
    "outputId": "9268e45c-630d-4e60-87ab-506a7fbc0957"
   },
   "outputs": [],
   "source": [
    "#After running this cell select the choice of organism based on the serial number.\n",
    "#Input is an integer only.\n",
    "print(\"Matching for {} sequences\".format(len( [ind for ind in range(0, len(input_seq)-stride-seq_len, stride)] )))    \n",
    "slected_specie = let_user_pick(species.keys())\n",
    "tmp_model = list(species.values())[slected_specie]"
   ]
  },
  {
   "cell_type": "code",
   "execution_count": null,
   "metadata": {
    "id": "7LZsqn0dr3NU"
   },
   "outputs": [],
   "source": [
    "#Main program for predicting and classifying the promoters present in a given genome.\n",
    "#wait till this runs completely.\n",
    "#output will be save to the file \"Motif_list_with_indexes_and_classification.txt\".\n",
    "with open(\"Motif_list_with_indexes_and_classification.txt\", \"w+\") as fl:\n",
    "    for ind in range(0, len(input_seq)-stride-seq_len, stride):\n",
    "        out = np.array([ int(_) for _ in input_seq[ind:ind+seq_len].replace(\"N\", \"0\").replace(\"A\", \"1\").replace(\"T\", \"2\").replace(\"G\", \"3\").replace(\"C\", \"4\") ])\n",
    "        out = out.reshape(1, 151, 1) / 4\n",
    "\n",
    "        pred_cat = tmp_model.predict(out)\n",
    "        if np.argmax(pred_cat[0]) == 1 and pred_cat[0][1] >= class_conf:\n",
    "            fl.write(\"{} with {:0.2f}% Confidence at index {}\\n\".format(\"Promoter\", pred_cat[0][1]*100, ind))\n",
    "            fl.write(\"Sequence at {}: {}\\n\".format(ind, input_seq[ind:ind+seq_len]))\n",
    "            flg = False\n",
    "            for key, value in decs.items():\n",
    "                if re.search(value, input_seq[ind:ind+seq_len]):\n",
    "                    fl.write(f\"{key} is present\\n\")\n",
    "                    flg = True\n",
    "            if not flg:\n",
    "                fl.write(\"Unable to classify\\n\")\n",
    "            fl.write(\"\\n\\n\")"
   ]
  },
  {
   "cell_type": "code",
   "execution_count": null,
   "metadata": {
    "id": "KwAXf8qPr3NW"
   },
   "outputs": [],
   "source": []
  }
 ],
 "metadata": {
  "colab": {
   "collapsed_sections": [],
   "name": "Promoter_Finder_and_classifier.ipynb",
   "provenance": []
  },
  "kernelspec": {
   "display_name": "Python 3",
   "language": "python",
   "name": "python3"
  },
  "language_info": {
   "codemirror_mode": {
    "name": "ipython",
    "version": 3
   },
   "file_extension": ".py",
   "mimetype": "text/x-python",
   "name": "python",
   "nbconvert_exporter": "python",
   "pygments_lexer": "ipython3",
   "version": "3.8.7"
  }
 },
 "nbformat": 4,
 "nbformat_minor": 1
}
